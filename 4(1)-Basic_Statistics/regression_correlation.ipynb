{
 "cells": [
  {
   "cell_type": "code",
   "execution_count": 25,
   "metadata": {},
   "outputs": [],
   "source": [
    "### 필요한 라이브러리 불러오기!\n",
    "\n",
    "import numpy as np\n",
    "import pandas as pd\n",
    "import statsmodels.api as sm"
   ]
  },
  {
   "cell_type": "code",
   "execution_count": 12,
   "metadata": {},
   "outputs": [],
   "source": [
    "### Advertising.csv를 불러와 데이터 로드하기!\n",
    "\n",
    "df = pd.read_csv(\"Advertising.csv\").drop(\"Unnamed: 0\", axis=1)\n",
    "df"
   ]
  },
  {
   "cell_type": "code",
   "execution_count": 16,
   "metadata": {},
   "outputs": [],
   "source": [
    "### Predictor Variable과 Response Variable을 설정해주세요!\n",
    "resp = df[[\"TV\", \"radio\", \"newspaper\"]]\n",
    "pred = df[\"sales\"]"
   ]
  },
  {
   "cell_type": "code",
   "execution_count": 27,
   "metadata": {},
   "outputs": [
    {
     "name": "stdout",
     "output_type": "stream",
     "text": [
      "           Coefficient  Std. Error  t-statistic       p-value\n",
      "const         2.938889    0.311908     9.422288  1.267295e-17\n",
      "TV            0.045765    0.001395    32.808624  1.509960e-81\n",
      "radio         0.188530    0.008611    21.893496  1.505339e-54\n",
      "newspaper    -0.001037    0.005871    -0.176715  8.599151e-01\n"
     ]
    }
   ],
   "source": [
    "### Multiple Linear Regression을 수행해봅시다!\n",
    "model = sm.OLS(pred, sm.add_constant(resp)).fit()\n",
    "\n",
    "summary_df = pd.DataFrame({\n",
    "    'Coefficient': model.params,\n",
    "    'Std. Error': model.bse,\n",
    "    't-statistic': model.tvalues,\n",
    "    'p-value': model.pvalues\n",
    "})\n",
    "\n",
    "print(summary_df)\n"
   ]
  },
  {
   "cell_type": "code",
   "execution_count": 28,
   "metadata": {},
   "outputs": [
    {
     "name": "stdout",
     "output_type": "stream",
     "text": [
      "                 TV     radio  newspaper     sales\n",
      "TV         1.000000  0.054809   0.056648  0.782224\n",
      "radio      0.054809  1.000000   0.354104  0.576223\n",
      "newspaper  0.056648  0.354104   1.000000  0.228299\n",
      "sales      0.782224  0.576223   0.228299  1.000000\n"
     ]
    }
   ],
   "source": [
    "### Correlation Matrix를 만들어 출력해주세요!\n",
    "\n",
    "print(df.corr())"
   ]
  }
 ],
 "metadata": {
  "kernelspec": {
   "display_name": "base",
   "language": "python",
   "name": "python3"
  },
  "language_info": {
   "codemirror_mode": {
    "name": "ipython",
    "version": 3
   },
   "file_extension": ".py",
   "mimetype": "text/x-python",
   "name": "python",
   "nbconvert_exporter": "python",
   "pygments_lexer": "ipython3",
   "version": "3.9.13"
  }
 },
 "nbformat": 4,
 "nbformat_minor": 2
}
